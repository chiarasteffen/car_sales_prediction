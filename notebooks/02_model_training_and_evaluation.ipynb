{
 "cells": [
  {
   "cell_type": "markdown",
   "id": "c8a86e59",
   "metadata": {},
   "source": [
    "# Notebook 02: Modelltraining & Evaluation\n",
    "\n",
    "In diesem Notebook werden auf dem bereinigten Datensatz zwei Baseline-Modelle (Lineare Regression und Random Forest) trainiert, mittels Kreuzvalidierung evaluiert und anschliessend auf dem Testset verglichen, um das bessere Modell zu bestimmen."
   ]
  },
  {
   "cell_type": "markdown",
   "id": "3a094bd3",
   "metadata": {},
   "source": [
    "## 1. Setup & Laden der Daten\n",
    "In diesem Schritt werden alle notwendigen Bibliotheken importiert, Konstanten definiert und der bereinigte Datensatz eingelesen."
   ]
  },
  {
   "cell_type": "code",
   "execution_count": 1,
   "id": "ac071adf",
   "metadata": {},
   "outputs": [
    {
     "name": "stdout",
     "output_type": "stream",
     "text": [
      "Shape des DataFrames: (98129, 35)\n"
     ]
    },
    {
     "data": {
      "text/html": [
       "<div>\n",
       "<style scoped>\n",
       "    .dataframe tbody tr th:only-of-type {\n",
       "        vertical-align: middle;\n",
       "    }\n",
       "\n",
       "    .dataframe tbody tr th {\n",
       "        vertical-align: top;\n",
       "    }\n",
       "\n",
       "    .dataframe thead th {\n",
       "        text-align: right;\n",
       "    }\n",
       "</style>\n",
       "<table border=\"1\" class=\"dataframe\">\n",
       "  <thead>\n",
       "    <tr style=\"text-align: right;\">\n",
       "      <th></th>\n",
       "      <th>year</th>\n",
       "      <th>make</th>\n",
       "      <th>model</th>\n",
       "      <th>trim</th>\n",
       "      <th>body</th>\n",
       "      <th>transmission</th>\n",
       "      <th>vin</th>\n",
       "      <th>condition</th>\n",
       "      <th>odometer</th>\n",
       "      <th>color</th>\n",
       "      <th>...</th>\n",
       "      <th>season</th>\n",
       "      <th>has_sport</th>\n",
       "      <th>has_limited</th>\n",
       "      <th>has_lx</th>\n",
       "      <th>has_se</th>\n",
       "      <th>has_touring</th>\n",
       "      <th>has_premium</th>\n",
       "      <th>vehicle_age</th>\n",
       "      <th>miles_per_year</th>\n",
       "      <th>color_popularity</th>\n",
       "    </tr>\n",
       "  </thead>\n",
       "  <tbody>\n",
       "    <tr>\n",
       "      <th>0</th>\n",
       "      <td>2015</td>\n",
       "      <td>Ford</td>\n",
       "      <td>Fusion</td>\n",
       "      <td>SE</td>\n",
       "      <td>Sedan</td>\n",
       "      <td>automatic</td>\n",
       "      <td>3fa6p0hdxfr145753</td>\n",
       "      <td>2.0</td>\n",
       "      <td>5559.0</td>\n",
       "      <td>white</td>\n",
       "      <td>...</td>\n",
       "      <td>Winter</td>\n",
       "      <td>0</td>\n",
       "      <td>0</td>\n",
       "      <td>0</td>\n",
       "      <td>1</td>\n",
       "      <td>0</td>\n",
       "      <td>0</td>\n",
       "      <td>1</td>\n",
       "      <td>5559.0</td>\n",
       "      <td>4</td>\n",
       "    </tr>\n",
       "    <tr>\n",
       "      <th>1</th>\n",
       "      <td>2012</td>\n",
       "      <td>Ford</td>\n",
       "      <td>Escape</td>\n",
       "      <td>Limited</td>\n",
       "      <td>SUV</td>\n",
       "      <td>automatic</td>\n",
       "      <td>1fmcu0eg0ckb55384</td>\n",
       "      <td>35.0</td>\n",
       "      <td>45035.0</td>\n",
       "      <td>gray</td>\n",
       "      <td>...</td>\n",
       "      <td>Winter</td>\n",
       "      <td>0</td>\n",
       "      <td>1</td>\n",
       "      <td>0</td>\n",
       "      <td>0</td>\n",
       "      <td>0</td>\n",
       "      <td>0</td>\n",
       "      <td>2</td>\n",
       "      <td>22517.5</td>\n",
       "      <td>3</td>\n",
       "    </tr>\n",
       "    <tr>\n",
       "      <th>2</th>\n",
       "      <td>2012</td>\n",
       "      <td>Ford</td>\n",
       "      <td>Edge</td>\n",
       "      <td>SEL</td>\n",
       "      <td>SUV</td>\n",
       "      <td>automatic</td>\n",
       "      <td>2fmdk3jc5cba41602</td>\n",
       "      <td>46.0</td>\n",
       "      <td>20035.0</td>\n",
       "      <td>gray</td>\n",
       "      <td>...</td>\n",
       "      <td>Winter</td>\n",
       "      <td>0</td>\n",
       "      <td>0</td>\n",
       "      <td>0</td>\n",
       "      <td>1</td>\n",
       "      <td>0</td>\n",
       "      <td>0</td>\n",
       "      <td>2</td>\n",
       "      <td>10017.5</td>\n",
       "      <td>3</td>\n",
       "    </tr>\n",
       "    <tr>\n",
       "      <th>3</th>\n",
       "      <td>2012</td>\n",
       "      <td>Ford</td>\n",
       "      <td>Edge</td>\n",
       "      <td>SEL</td>\n",
       "      <td>SUV</td>\n",
       "      <td>automatic</td>\n",
       "      <td>2fmdk4jc4cba12890</td>\n",
       "      <td>46.0</td>\n",
       "      <td>41115.0</td>\n",
       "      <td>white</td>\n",
       "      <td>...</td>\n",
       "      <td>Winter</td>\n",
       "      <td>0</td>\n",
       "      <td>0</td>\n",
       "      <td>0</td>\n",
       "      <td>1</td>\n",
       "      <td>0</td>\n",
       "      <td>0</td>\n",
       "      <td>2</td>\n",
       "      <td>20557.5</td>\n",
       "      <td>4</td>\n",
       "    </tr>\n",
       "    <tr>\n",
       "      <th>4</th>\n",
       "      <td>2012</td>\n",
       "      <td>Ford</td>\n",
       "      <td>Focus</td>\n",
       "      <td>Titanium</td>\n",
       "      <td>Hatchback</td>\n",
       "      <td>automatic</td>\n",
       "      <td>1fahp3n21cl330426</td>\n",
       "      <td>3.0</td>\n",
       "      <td>26747.0</td>\n",
       "      <td>red</td>\n",
       "      <td>...</td>\n",
       "      <td>Winter</td>\n",
       "      <td>0</td>\n",
       "      <td>0</td>\n",
       "      <td>0</td>\n",
       "      <td>0</td>\n",
       "      <td>0</td>\n",
       "      <td>0</td>\n",
       "      <td>2</td>\n",
       "      <td>13373.5</td>\n",
       "      <td>6</td>\n",
       "    </tr>\n",
       "  </tbody>\n",
       "</table>\n",
       "<p>5 rows × 35 columns</p>\n",
       "</div>"
      ],
      "text/plain": [
       "   year  make   model      trim       body transmission                vin  \\\n",
       "0  2015  Ford  Fusion        SE      Sedan    automatic  3fa6p0hdxfr145753   \n",
       "1  2012  Ford  Escape   Limited        SUV    automatic  1fmcu0eg0ckb55384   \n",
       "2  2012  Ford    Edge       SEL        SUV    automatic  2fmdk3jc5cba41602   \n",
       "3  2012  Ford    Edge       SEL        SUV    automatic  2fmdk4jc4cba12890   \n",
       "4  2012  Ford   Focus  Titanium  Hatchback    automatic  1fahp3n21cl330426   \n",
       "\n",
       "   condition  odometer  color  ...  season has_sport  has_limited has_lx  \\\n",
       "0        2.0    5559.0  white  ...  Winter         0            0      0   \n",
       "1       35.0   45035.0   gray  ...  Winter         0            1      0   \n",
       "2       46.0   20035.0   gray  ...  Winter         0            0      0   \n",
       "3       46.0   41115.0  white  ...  Winter         0            0      0   \n",
       "4        3.0   26747.0    red  ...  Winter         0            0      0   \n",
       "\n",
       "   has_se  has_touring  has_premium  vehicle_age miles_per_year  \\\n",
       "0       1            0            0            1         5559.0   \n",
       "1       0            0            0            2        22517.5   \n",
       "2       1            0            0            2        10017.5   \n",
       "3       1            0            0            2        20557.5   \n",
       "4       0            0            0            2        13373.5   \n",
       "\n",
       "  color_popularity  \n",
       "0                4  \n",
       "1                3  \n",
       "2                3  \n",
       "3                4  \n",
       "4                6  \n",
       "\n",
       "[5 rows x 35 columns]"
      ]
     },
     "metadata": {},
     "output_type": "display_data"
    }
   ],
   "source": [
    "# 1.1 Imports\n",
    "import pandas as pd\n",
    "import numpy as np\n",
    "\n",
    "from sklearn.model_selection import train_test_split, cross_val_score\n",
    "from sklearn.linear_model import LinearRegression\n",
    "from sklearn.ensemble import RandomForestRegressor\n",
    "from sklearn.pipeline import Pipeline\n",
    "from sklearn.compose import ColumnTransformer\n",
    "from sklearn.impute import SimpleImputer\n",
    "from sklearn.preprocessing import StandardScaler, OneHotEncoder\n",
    "from sklearn.metrics import mean_absolute_error, mean_squared_error, r2_score\n",
    "\n",
    "import joblib\n",
    "import os\n",
    "\n",
    "# 1.2 Konstanten\n",
    "RANDOM_STATE = 42\n",
    "DATA_PATH = \"../data/processed/cars_states_cleaned.csv\"\n",
    "\n",
    "# 1.3 Einlesen des bereinigten Datensatzes\n",
    "df = pd.read_csv(DATA_PATH)\n",
    "\n",
    "# 1.4 Erster Überblick\n",
    "print(f\"Shape des DataFrames: {df.shape}\")\n",
    "display(df.head())"
   ]
  },
  {
   "cell_type": "markdown",
   "id": "7dae3b7c",
   "metadata": {},
   "source": [
    "## 2. Train-/Test-Split\n",
    "In diesem Schritt werden die Merkmale und die Zielvariable definiert und der Datensatz in ein Trainings- und Testset im Verhältnis 80/20 aufgeteilt."
   ]
  },
  {
   "cell_type": "code",
   "execution_count": 2,
   "id": "96340c5a",
   "metadata": {},
   "outputs": [
    {
     "name": "stdout",
     "output_type": "stream",
     "text": [
      "X_train: (78503, 34), X_test: (19626, 34)\n",
      "y_train: (78503,), y_test: (19626,)\n"
     ]
    }
   ],
   "source": [
    "# 2.1 Merkmale (X) und Ziel (y) definieren\n",
    "X = df.drop(\"sellingprice\", axis=1)\n",
    "y = df[\"sellingprice\"]\n",
    "\n",
    "# 2.2 Aufteilen in Trainings- und Testset\n",
    "X_train, X_test, y_train, y_test = train_test_split(\n",
    "    X, y, test_size=0.2, random_state=RANDOM_STATE\n",
    ")\n",
    "\n",
    "# Kontrolle der Formen\n",
    "print(f\"X_train: {X_train.shape}, X_test: {X_test.shape}\")\n",
    "print(f\"y_train: {y_train.shape}, y_test: {y_test.shape}\")"
   ]
  },
  {
   "cell_type": "markdown",
   "id": "e15a360b",
   "metadata": {},
   "source": [
    "## 3. Preprocessing-Pipeline\n",
    "Dieser Abschnitt definiert die Vorverarbeitungs-Pipeline für numerische und kategoriale Merkmale mit Imputation, Skalierung sowie One-Hot-Encoding."
   ]
  },
  {
   "cell_type": "code",
   "execution_count": 3,
   "id": "1671d6b2",
   "metadata": {},
   "outputs": [
    {
     "name": "stdout",
     "output_type": "stream",
     "text": [
      "Numerische Features: ['year', 'condition', 'odometer', 'sale_year', 'sale_month', 'sale_day', 'sale_weekday', 'car_age', 'avg_price_state', 'median_price_state', 'has_sport', 'has_limited', 'has_lx', 'has_se', 'has_touring', 'has_premium', 'vehicle_age', 'miles_per_year', 'color_popularity']\n",
      "Kategoriale Features: ['make', 'model', 'trim', 'body', 'transmission', 'vin', 'color', 'interior', 'seller', 'saledate', 'state_clean', 'state_code', 'state_name', 'state_region', 'season']\n",
      "Form nach Preprocessing: (78503, 84795)\n",
      "Preprocessor gespeichert unter: ../models/preprocessor_final.pkl\n",
      "Form von X_test_pre nach Transformation: (19626, 84795)\n"
     ]
    }
   ],
   "source": [
    "# 3.1 Identifikation numerischer und kategorialer Features\n",
    "numeric_features     = X_train.select_dtypes(include=[np.number]).columns.tolist()\n",
    "categorical_features = X_train.select_dtypes(include=[\"object\"]).columns.tolist()\n",
    "\n",
    "print(\"Numerische Features:\", numeric_features)\n",
    "print(\"Kategoriale Features:\", categorical_features)\n",
    "\n",
    "# 3.2 Definition der Pipelines\n",
    "numeric_pipeline = Pipeline([\n",
    "    (\"imputer\", SimpleImputer(strategy=\"median\")),\n",
    "    (\"scaler\", StandardScaler())\n",
    "])\n",
    "categorical_pipeline = Pipeline([\n",
    "    (\"imputer\", SimpleImputer(strategy=\"most_frequent\")),\n",
    "    (\"onehot\", OneHotEncoder(handle_unknown=\"ignore\"))\n",
    "])\n",
    "\n",
    "# 3.3 Aufbau des ColumnTransformer\n",
    "preprocessor = ColumnTransformer([\n",
    "    (\"num\", numeric_pipeline, numeric_features),\n",
    "    (\"cat\", categorical_pipeline, categorical_features)\n",
    "])\n",
    "\n",
    "# 3.4 Test: Preprocessor auf Trainingsdaten fitten und transformieren\n",
    "X_train_pre = preprocessor.fit_transform(X_train)\n",
    "print(\"Form nach Preprocessing:\", X_train_pre.shape)\n",
    "\n",
    "# 3.5 Preprocessing-Pipeline speichern\n",
    "import joblib, os\n",
    "\n",
    "MODEL_DIR = \"../models\"\n",
    "os.makedirs(MODEL_DIR, exist_ok=True)\n",
    "\n",
    "PREP_PATH = os.path.join(MODEL_DIR, \"preprocessor_final.pkl\")\n",
    "joblib.dump(preprocessor, PREP_PATH)\n",
    "print(f\"Preprocessor gespeichert unter: {PREP_PATH}\")\n",
    "\n",
    "# 3.6 Preprocessor auf Testdaten anwenden\n",
    "X_test_pre = preprocessor.transform(X_test)\n",
    "print(\"Form von X_test_pre nach Transformation:\", X_test_pre.shape)"
   ]
  },
  {
   "cell_type": "markdown",
   "id": "8f4d5e20",
   "metadata": {},
   "source": [
    "### 4. Kreuzvalidierung der Baseline-Modelle  \n",
    "In diesem Schritt werden Lineare Regression und Random Forest mittels OOB-Score (RF) und K-Fold-CV auf den vorverarbeiteten Trainingsdaten geprüft."
   ]
  },
  {
   "cell_type": "markdown",
   "id": "aa03f3dc",
   "metadata": {},
   "source": [
    "#### 4.1 Lineare Regression"
   ]
  },
  {
   "cell_type": "code",
   "execution_count": 4,
   "id": "fa018ebb",
   "metadata": {},
   "outputs": [
    {
     "name": "stdout",
     "output_type": "stream",
     "text": [
      "LR CV RMSE (3-fold): 1767.24 ± 25.62\n"
     ]
    }
   ],
   "source": [
    "from sklearn.model_selection import KFold, cross_val_score\n",
    "\n",
    "# 4.1.1 Linear Regression CV (3-Folds) für RMSE\n",
    "lr_cv_model = LinearRegression()\n",
    "kf = KFold(n_splits=3, shuffle=True, random_state=RANDOM_STATE)\n",
    "cv_neg_rmse_lr = cross_val_score(\n",
    "    lr_cv_model,\n",
    "    X_train_pre,\n",
    "    y_train,\n",
    "    cv=kf,\n",
    "    scoring=\"neg_root_mean_squared_error\",\n",
    "    n_jobs=1\n",
    ")\n",
    "cv_rmse_lr = -cv_neg_rmse_lr\n",
    "print(f\"LR CV RMSE (3-fold): {cv_rmse_lr.mean():.2f} ± {cv_rmse_lr.std():.2f}\")"
   ]
  },
  {
   "cell_type": "markdown",
   "id": "8fe078c3",
   "metadata": {},
   "source": [
    "#### 4.2 Random Forest"
   ]
  },
  {
   "cell_type": "code",
   "execution_count": 5,
   "id": "247ec5c3",
   "metadata": {},
   "outputs": [
    {
     "name": "stdout",
     "output_type": "stream",
     "text": [
      "RF CV RMSE (3-fold, 50 trees, 30% sample): 1564.00 ± 46.14\n"
     ]
    }
   ],
   "source": [
    "from sklearn.model_selection import KFold, cross_val_score, train_test_split\n",
    "from sklearn.ensemble import RandomForestRegressor\n",
    "import numpy as np\n",
    "\n",
    "# 4.2.1 Stichprobe ziehen (30 % der Trainingsdaten)\n",
    "X_small, _, y_small, _ = train_test_split(\n",
    "    X_train_pre, y_train,\n",
    "    train_size=0.3,\n",
    "    random_state=RANDOM_STATE\n",
    ")\n",
    "\n",
    "# 4.2.2 Random Forest für CV mit weniger Bäumen\n",
    "rf_cv_fast = RandomForestRegressor(\n",
    "    n_estimators=50,         # nur 50 Bäume\n",
    "    max_depth=20,\n",
    "    min_samples_leaf=2,\n",
    "    max_features=0.5,\n",
    "    random_state=RANDOM_STATE,\n",
    "    n_jobs=-1                # maximal parallel\n",
    ")\n",
    "\n",
    "# 4.2.3 3-fach K-Fold CV\n",
    "kf = KFold(n_splits=3, shuffle=True, random_state=RANDOM_STATE)\n",
    "cv_neg_mse = cross_val_score(\n",
    "    rf_cv_fast,\n",
    "    X_small,\n",
    "    y_small,\n",
    "    cv=kf,\n",
    "    scoring=\"neg_mean_squared_error\",\n",
    "    n_jobs=-1                # parallelisieren\n",
    ")\n",
    "\n",
    "# 4.2.4 RMSE berechnen und ausgeben\n",
    "cv_rmse = np.sqrt(-cv_neg_mse)\n",
    "print(f\"RF CV RMSE (3-fold, 50 trees, 30% sample): {cv_rmse.mean():.2f} ± {cv_rmse.std():.2f}\")"
   ]
  },
  {
   "cell_type": "markdown",
   "id": "eef0326a",
   "metadata": {},
   "source": [
    "### 4. Cross-Validation Ergebnisse im Vergleich\n",
    "\n",
    "| Modell                  | CV RMSE (3-fold) | Std Dev   |\n",
    "|-------------------------|------------------|-----------|\n",
    "| **Lineare Regression**  | 1 767.24         | ± 25.62   |\n",
    "| **Random Forest (50 Bäume, 30 % Sample)** | 1 564.00         | ± 46.14   |\n",
    "\n",
    "**Interpretation:**  \n",
    "- Der Random Forest erzielt mit **1 564** einen deutlich niedrigeren CV-RMSE als die Lineare Regression (**1 767**).  \n",
    "- Die höhere Streuung beim RF (± 46 vs. ± 25) ist akzeptabel, da der Mittelwert deutlich besser ist.\n",
    "\n",
    "**Entscheidung:**  \n",
    "Auf Basis der Cross-Validation-Ergebnisse wird der **Random Forest** als besser geeignetes Modell ausgewählt."
   ]
  },
  {
   "cell_type": "markdown",
   "id": "98326d90",
   "metadata": {},
   "source": [
    "### 5. Endgültiges Training & Test-Evaluation\n",
    "Beide Modelle werden auf dem gesamten Trainingsset trainiert und auf dem Testset mit MAE, RMSE und R² ausgewertet.  "
   ]
  },
  {
   "cell_type": "markdown",
   "id": "0c0518c7",
   "metadata": {},
   "source": [
    "#### 5.1 Training & Test-Evaluation: Lineare Regression"
   ]
  },
  {
   "cell_type": "code",
   "execution_count": 6,
   "id": "bab7f9ce",
   "metadata": {},
   "outputs": [
    {
     "name": "stdout",
     "output_type": "stream",
     "text": [
      "Lineare Regression – Testset\n",
      " MAE:  1369.15\n",
      " RMSE: 1874.48\n",
      " R²:   0.8605\n"
     ]
    }
   ],
   "source": [
    "from sklearn.linear_model import LinearRegression\n",
    "from sklearn.metrics import mean_absolute_error, mean_squared_error, r2_score\n",
    "import numpy as np\n",
    "\n",
    "# 5.1.1 Modell instanziieren und trainieren (Preprocessing bereits durchgeführt)\n",
    "lr_final = LinearRegression()\n",
    "lr_final.fit(X_train_pre, y_train)\n",
    "\n",
    "# 5.1.2 Vorhersage auf Testset\n",
    "y_pred_lr = lr_final.predict(X_test_pre)\n",
    "\n",
    "# 5.1.3 Metriken berechnen\n",
    "mae_lr  = mean_absolute_error(y_test, y_pred_lr)\n",
    "rmse_lr = np.sqrt(mean_squared_error(y_test, y_pred_lr))\n",
    "r2_lr   = r2_score(y_test, y_pred_lr)\n",
    "\n",
    "# 5.1.4 Ergebnisse ausgeben\n",
    "print(\"Lineare Regression – Testset\")\n",
    "print(f\" MAE:  {mae_lr:.2f}\")\n",
    "print(f\" RMSE: {rmse_lr:.2f}\")\n",
    "print(f\" R²:   {r2_lr:.4f}\")"
   ]
  },
  {
   "cell_type": "markdown",
   "id": "dce53b58",
   "metadata": {},
   "source": [
    "#### 5.2 Training & Test-Evaluation: Random Forest"
   ]
  },
  {
   "cell_type": "code",
   "execution_count": 7,
   "id": "41bb0dfd",
   "metadata": {},
   "outputs": [
    {
     "name": "stdout",
     "output_type": "stream",
     "text": [
      "Random Forest – Testset\n",
      " MAE:  921.82\n",
      " RMSE: 1332.17\n",
      " R²:   0.9295\n"
     ]
    }
   ],
   "source": [
    "from sklearn.ensemble import RandomForestRegressor\n",
    "\n",
    "# 5.2.1 Modell instanziieren und trainieren\n",
    "rf_final = RandomForestRegressor(\n",
    "    n_estimators=50,\n",
    "    max_depth=20,\n",
    "    min_samples_leaf=2,\n",
    "    max_features=0.5,\n",
    "    random_state=RANDOM_STATE,\n",
    "    n_jobs=-1\n",
    ")\n",
    "rf_final.fit(X_train_pre, y_train)\n",
    "\n",
    "# 5.2.2 Vorhersage auf Testset\n",
    "y_pred_rf = rf_final.predict(X_test_pre)\n",
    "\n",
    "# 5.2.3 Metriken berechnen\n",
    "mae_rf  = mean_absolute_error(y_test, y_pred_rf)\n",
    "rmse_rf = np.sqrt(mean_squared_error(y_test, y_pred_rf))\n",
    "r2_rf   = r2_score(y_test, y_pred_rf)\n",
    "\n",
    "# 5.2.4 Ergebnisse ausgeben\n",
    "print(\"Random Forest – Testset\")\n",
    "print(f\" MAE:  {mae_rf:.2f}\")\n",
    "print(f\" RMSE: {rmse_rf:.2f}\")\n",
    "print(f\" R²:   {r2_rf:.4f}\")"
   ]
  },
  {
   "cell_type": "markdown",
   "id": "b8915814",
   "metadata": {},
   "source": [
    "### 5.3 Vergleich der finalen Test-Ergebnisse\n",
    "\n",
    "| Kennzahl      | Lineare Regression | Random Forest   | Differenz (RF − LR) |\n",
    "|---------------|--------------------|-----------------|---------------------|\n",
    "| **MAE**       | 1 369.15           | 921.82          | −447.33             |\n",
    "| **RMSE**      | 1 874.48           | 1 332.17        | −542.31             |\n",
    "| **R²**        | 0.8605             | 0.9295          | +0.0690             |\n",
    "\n",
    "**Interpretation:**  \n",
    "- **Mittlerer Fehler (MAE):** Der Random Forest reduziert den durchschnittlichen absoluten Fehler um ca. 447 gegenüber der Linearen Regression.  \n",
    "- **Quadratischer Fehler (RMSE):** Der RF erzielt eine um 542 niedrigere RMSE, was auf weniger grosse Ausreisser-Abweichungen hinweist.  \n",
    "- **Erklärte Varianz (R²):** Mit R² ≈ 0.93 erklärt der Random Forest deutlich mehr Varianz in den Verkäufen als die Lineare Regression (R² ≈ 0.86).\n",
    "\n",
    "**Fazit:**  \n",
    "Der Random Forest ist in allen drei Kennzahlen überlegen: Er liefert präzisere Vorhersagen (geringerer MAE/RMSE) und erklärt einen grösseren Anteil der Preis-Variation. Damit ist er das eindeutig bessere Modell für dieses Szenario.\n"
   ]
  },
  {
   "cell_type": "markdown",
   "id": "d2ecca4b",
   "metadata": {},
   "source": [
    "## 6. Random Forest: Feature Importance & ROC/AUC\n",
    "\n",
    "In diesem Abschnitt werden die wichtigsten Merkmale des Random Forest visualisiert und eine ROC/AUC-Bewertung durchgeführt, indem Verkäufe oberhalb versus unterhalb des Median‐Preises als binäre Aufgabe betrachtet werden."
   ]
  },
  {
   "cell_type": "code",
   "execution_count": 8,
   "id": "97008932",
   "metadata": {},
   "outputs": [
    {
     "data": {
      "image/png": "[encoded data removed]",
      "text/plain": [
       "<Figure size 600x400 with 1 Axes>"
      ]
     },
     "metadata": {},
     "output_type": "display_data"
    }
   ],
   "source": [
    "# 6.1 Optimierte Feature Importance (Top 10)\n",
    "import matplotlib.pyplot as plt\n",
    "import numpy as np\n",
    "\n",
    "# Gesamt-Importances\n",
    "importances = rf_final.feature_importances_\n",
    "# Indices der Top 10\n",
    "top10_idx = np.argsort(importances)[-10:]\n",
    "top10_features = preprocessor.get_feature_names_out()[top10_idx]\n",
    "top10_importances = importances[top10_idx]\n",
    "\n",
    "plt.figure(figsize=(6, 4))\n",
    "plt.barh(top10_features, top10_importances)\n",
    "plt.xlabel(\"Feature Importance\")\n",
    "plt.title(\"Top 10 Random Forest Features\")\n",
    "plt.tight_layout()\n",
    "plt.show()"
   ]
  },
  {
   "cell_type": "code",
   "execution_count": 9,
   "id": "84960693",
   "metadata": {},
   "outputs": [
    {
     "data": {
      "image/png": "[encoded data removed]",
      "text/plain": [
       "<Figure size 600x600 with 1 Axes>"
      ]
     },
     "metadata": {},
     "output_type": "display_data"
    },
    {
     "name": "stdout",
     "output_type": "stream",
     "text": [
      "AUC (High-price vs Low-price): 0.982\n"
     ]
    }
   ],
   "source": [
    "# 6.2 ROC & AUC (High-price vs Low-price)\n",
    "from sklearn.metrics import roc_auc_score, roc_curve\n",
    "\n",
    "# Binärlabels: 1 = Verkaufspreis > Median, 0 = <= Median\n",
    "threshold = np.median(y_test)\n",
    "y_test_binary = (y_test > threshold).astype(int)\n",
    "y_scores = rf_final.predict(X_test_pre)\n",
    "\n",
    "# AUC und ROC-Kurve berechnen\n",
    "auc = roc_auc_score(y_test_binary, y_scores)\n",
    "fpr, tpr, _ = roc_curve(y_test_binary, y_scores)\n",
    "\n",
    "# ROC-Kurve plotten\n",
    "plt.figure(figsize=(6, 6))\n",
    "plt.plot(fpr, tpr, label=f\"AUC = {auc:.3f}\")\n",
    "plt.plot([0, 1], [0, 1], linestyle=\"--\", color=\"grey\")\n",
    "plt.xlabel(\"False Positive Rate\")\n",
    "plt.ylabel(\"True Positive Rate\")\n",
    "plt.title(\"ROC Curve (High-price vs Low-price)\")\n",
    "plt.legend(loc=\"lower right\")\n",
    "plt.tight_layout()\n",
    "plt.show()\n",
    "\n",
    "print(f\"AUC (High-price vs Low-price): {auc:.3f}\")"
   ]
  },
  {
   "cell_type": "markdown",
   "id": "2fc744fa",
   "metadata": {},
   "source": [
    "### 6.3 Random Forest: Feature Importance & ROC/AUC – Zusammenfassung\n",
    "\n",
    "**Feature Importance**  \n",
    "- Die **Top-2** Merkmale sind **`year`** und **`odometer`**, mit jeweils rund 21 % Anteil an der Gesamt­wichtigkeit.  \n",
    "- Auf Platz 3 folgt die Karosserieform **`body_SUV`** mit ca. 9 %.  \n",
    "- Danach rangieren Alter des Fahrzeugs (`car_age`), berechnetes Alter (`vehicle_age`), Zustand (`condition`) sowie verschiedene Karosserie- und Trim-Flags.\n",
    "\n",
    "Diese Reihenfolge bestätigt, dass Zeit (Baujahr/Alter) und Laufleistung die stärksten Prädiktoren für den Verkaufspreis sind, gefolgt von Modell- und Ausstattungseffekten.\n",
    "\n",
    "---\n",
    "\n",
    "**ROC/AUC (High-price vs Low-price)**  \n",
    "- Für die binäre Klassifikation („Verkaufspreis > Median“ vs. „≤ Median“) ergibt sich eine **AUC von 0.982**, was einer exzellenten Trennschärfe entspricht.  \n",
    "- Die **ROC-Kurve** liegt weit oben links im Diagramm – das Modell erzielt also bei nahezu allen Schwellenwerten eine sehr hohe True-Positive-Rate bei gleichzeitig niedriger False-Positive-Rate.\n",
    "\n",
    "**Interpretation & Fazit**  \n",
    "- Der Random Forest bietet nicht nur hervorragende Regressions­kennzahlen (RMSE ≈ 1332, R² ≈ 0.93), sondern trennt auch sehr gut hohe von niedrigen Preisen.  \n",
    "- Zeit- und Laufleistungs­merkmale dominieren, Modell-/Trim- und Karosserieinformationen liefern zusätzliche, aber geringere Beiträge.  \n",
    "- Insgesamt ist der Random Forest das klar zu bevorzugende Modell für präzise Preis­schätzungen und auch für Preis-Segmentierungsaufgaben.  \n"
   ]
  },
  {
   "cell_type": "markdown",
   "id": "bafad816",
   "metadata": {},
   "source": [
    "## 7. Speicherung des finalen Modells\n",
    "\n",
    "Das trainierte Random Forest Modell wird mit `joblib` als `.pkl` Datei gespeichert."
   ]
  },
  {
   "cell_type": "code",
   "execution_count": 10,
   "id": "6b096466",
   "metadata": {},
   "outputs": [
    {
     "name": "stdout",
     "output_type": "stream",
     "text": [
      "Modell gespeichert unter: ../models/random_forest_final.pkl\n"
     ]
    }
   ],
   "source": [
    "import joblib\n",
    "import os\n",
    "\n",
    "# 7.1 Pfad definieren\n",
    "MODEL_DIR = \"../models\"\n",
    "os.makedirs(MODEL_DIR, exist_ok=True)\n",
    "MODEL_PATH = os.path.join(MODEL_DIR, \"random_forest_final.pkl\")\n",
    "\n",
    "# 7.2 Modell speichern\n",
    "joblib.dump(rf_final, MODEL_PATH)\n",
    "\n",
    "print(f\"Modell gespeichert unter: {MODEL_PATH}\")"
   ]
  }
 ],
 "metadata": {
  "kernelspec": {
   "display_name": "Python 3",
   "language": "python",
   "name": "python3"
  },
  "language_info": {
   "codemirror_mode": {
    "name": "ipython",
    "version": 3
   },
   "file_extension": ".py",
   "mimetype": "text/x-python",
   "name": "python",
   "nbconvert_exporter": "python",
   "pygments_lexer": "ipython3",
   "version": "3.12.1"
  }
 },
 "nbformat": 4,
 "nbformat_minor": 5
}
